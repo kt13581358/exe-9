{
 "cells": [
  {
   "cell_type": "markdown",
   "id": "7a923829",
   "metadata": {},
   "source": [
    "تمرین 1"
   ]
  },
  {
   "cell_type": "code",
   "execution_count": 34,
   "id": "45f96eba",
   "metadata": {},
   "outputs": [],
   "source": [
    "def n_print(n):\n",
    "    from pprint import pprint\n",
    "    file1 = open('test.txt')\n",
    "    c = file1.readlines()\n",
    "    pprint(c[:n])"
   ]
  },
  {
   "cell_type": "code",
   "execution_count": 35,
   "id": "366555ec",
   "metadata": {},
   "outputs": [
    {
     "name": "stdout",
     "output_type": "stream",
     "text": [
      "['1.\\tHorror: I like watching horror movies.\\n',\n",
      " '2.\\tSouth: I never traveled to southern cities.\\n',\n",
      " \"3.\\tDairy: I don't like dairy products.\\n\"]\n"
     ]
    }
   ],
   "source": [
    "n_print(3)"
   ]
  },
  {
   "cell_type": "markdown",
   "id": "a335f826",
   "metadata": {},
   "source": [
    "تمرین 2"
   ]
  },
  {
   "cell_type": "code",
   "execution_count": 49,
   "id": "be108648",
   "metadata": {},
   "outputs": [],
   "source": [
    "def n_reverse_print(n):\n",
    "    #from pprint import pprint\n",
    "    #f = open('test.txt')\n",
    "    #c = f.readlines()\n",
    "    len(c)\n",
    "    d = len(c) - n\n",
    "    pprint(c[(len(c) - n):len(c)])"
   ]
  },
  {
   "cell_type": "code",
   "execution_count": 51,
   "id": "a59a806f",
   "metadata": {},
   "outputs": [
    {
     "name": "stdout",
     "output_type": "stream",
     "text": [
      "['8.\\tIntersection: We live near Mesbah intersection.\\n',\n",
      " \"9.\\tMurder: My colleague's brother-in-low murdered last year.\\n\",\n",
      " '10.\\tSeason: My favorite TV comedy has 4 seasons.']\n"
     ]
    }
   ],
   "source": [
    "n_reverse_print(3)"
   ]
  },
  {
   "cell_type": "markdown",
   "id": "471c4d5d",
   "metadata": {},
   "source": [
    "تمرین 3"
   ]
  },
  {
   "cell_type": "code",
   "execution_count": null,
   "id": "c9d954f1",
   "metadata": {},
   "outputs": [],
   "source": [
    "def my_reverse(n):\n",
    "    n = str(n)\n",
    "    for i in range(len(n)):\n",
    "        a = n[::-1]\n",
    "    return(a)"
   ]
  },
  {
   "cell_type": "code",
   "execution_count": 30,
   "id": "15d33725",
   "metadata": {},
   "outputs": [
    {
     "name": "stdout",
     "output_type": "stream",
     "text": [
      "321\n"
     ]
    }
   ],
   "source": [
    "my_reverse(123)"
   ]
  },
  {
   "cell_type": "markdown",
   "id": "fd2d21ce",
   "metadata": {},
   "source": [
    "تمرین 4"
   ]
  },
  {
   "cell_type": "code",
   "execution_count": 44,
   "id": "5f5e0746",
   "metadata": {},
   "outputs": [],
   "source": [
    "def addString(a,b):\n",
    "    s = int(a) + int(b)\n",
    "    return(s)\n"
   ]
  },
  {
   "cell_type": "code",
   "execution_count": 45,
   "id": "032e667b",
   "metadata": {},
   "outputs": [
    {
     "data": {
      "text/plain": [
       "20"
      ]
     },
     "execution_count": 45,
     "metadata": {},
     "output_type": "execute_result"
    }
   ],
   "source": [
    "addString(12,8)"
   ]
  },
  {
   "cell_type": "markdown",
   "id": "1e1aadc6",
   "metadata": {},
   "source": [
    "تمرین 5"
   ]
  },
  {
   "cell_type": "code",
   "execution_count": 14,
   "id": "8df332be",
   "metadata": {},
   "outputs": [],
   "source": [
    "def firstUChar(a):\n",
    "    char_count = {}\n",
    "    for i in a:\n",
    "        if i in char_count:\n",
    "            char_count[i] += 1\n",
    "        else:\n",
    "            char_count[i] = 1\n",
    "    print(char_count)\n",
    "    unique_char = -1\n",
    "    for k ,v in char_count.items():\n",
    "        if v == 1:\n",
    "            #return(k)\n",
    "            unique_char = a.index(k)\n",
    "            break  \n",
    "    return(unique_char)"
   ]
  },
  {
   "cell_type": "code",
   "execution_count": 20,
   "id": "bd259e9c",
   "metadata": {},
   "outputs": [
    {
     "name": "stdout",
     "output_type": "stream",
     "text": [
      "{'l': 2, 'g': 2, 'h': 2, 'y': 2}\n"
     ]
    },
    {
     "data": {
      "text/plain": [
       "-1"
      ]
     },
     "execution_count": 20,
     "metadata": {},
     "output_type": "execute_result"
    }
   ],
   "source": [
    "firstUChar('llgghhyy')"
   ]
  },
  {
   "cell_type": "code",
   "execution_count": 15,
   "id": "c1644c90",
   "metadata": {},
   "outputs": [
    {
     "name": "stdout",
     "output_type": "stream",
     "text": [
      "{'g': 2, 'h': 2, 'd': 1, 'r': 2, 't': 4}\n"
     ]
    },
    {
     "data": {
      "text/plain": [
       "4"
      ]
     },
     "execution_count": 15,
     "metadata": {},
     "output_type": "execute_result"
    }
   ],
   "source": [
    "firstUChar('gghhdrrtttt')"
   ]
  },
  {
   "cell_type": "code",
   "execution_count": 16,
   "id": "bd69db80",
   "metadata": {},
   "outputs": [],
   "source": [
    "def firstUChar_2(a):\n",
    "    char_count = {}\n",
    "    for i in a:\n",
    "        if i in char_count:\n",
    "            char_count[i] += 1\n",
    "        else:\n",
    "            char_count[i] = 1\n",
    "    print(char_count)\n",
    "    for k ,v in char_count.items():\n",
    "        if v == 1:\n",
    "            #print(k)\n",
    "            return(a.index(k))\n",
    "            break  \n",
    "    else:\n",
    "        return(-1)"
   ]
  },
  {
   "cell_type": "code",
   "execution_count": 17,
   "id": "b9b51a6c",
   "metadata": {},
   "outputs": [
    {
     "name": "stdout",
     "output_type": "stream",
     "text": [
      "{'l': 2, 'g': 2, 'h': 1, 'y': 2}\n"
     ]
    },
    {
     "data": {
      "text/plain": [
       "4"
      ]
     },
     "execution_count": 17,
     "metadata": {},
     "output_type": "execute_result"
    }
   ],
   "source": [
    "firstUChar_2('llgghyy')"
   ]
  },
  {
   "cell_type": "code",
   "execution_count": 19,
   "id": "8bd157d9",
   "metadata": {},
   "outputs": [
    {
     "name": "stdout",
     "output_type": "stream",
     "text": [
      "{'l': 2, 'g': 2, 'h': 2, 'y': 2}\n"
     ]
    },
    {
     "data": {
      "text/plain": [
       "-1"
      ]
     },
     "execution_count": 19,
     "metadata": {},
     "output_type": "execute_result"
    }
   ],
   "source": [
    "firstUChar('llgghhyy')"
   ]
  },
  {
   "cell_type": "markdown",
   "id": "b02febdd",
   "metadata": {},
   "source": [
    "تمرین 6"
   ]
  }
 ],
 "metadata": {
  "kernelspec": {
   "display_name": "Python 3",
   "language": "python",
   "name": "python3"
  },
  "language_info": {
   "codemirror_mode": {
    "name": "ipython",
    "version": 3
   },
   "file_extension": ".py",
   "mimetype": "text/x-python",
   "name": "python",
   "nbconvert_exporter": "python",
   "pygments_lexer": "ipython3",
   "version": "3.10.10"
  }
 },
 "nbformat": 4,
 "nbformat_minor": 5
}
