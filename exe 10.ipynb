{
 "cells": [
  {
   "cell_type": "markdown",
   "id": "99087b5e",
   "metadata": {},
   "source": [
    "تمرین 2"
   ]
  },
  {
   "cell_type": "code",
   "execution_count": 35,
   "id": "25d7eb10",
   "metadata": {},
   "outputs": [],
   "source": [
    "def copy_file (path_1 , path_2):\n",
    "    with open(path_1, 'r', encoding='utf-8') as f1:\n",
    "        content = f1.read()\n",
    "    with open(path_2, 'a', encoding='utf-8') as f2:\n",
    "         f2.write (\"\\n\" + content)\n",
    "    with open(path_2, 'r', encoding='utf-8') as f3:\n",
    "        print(f3.read())"
   ]
  },
  {
   "cell_type": "code",
   "execution_count": 36,
   "id": "1ef4e742",
   "metadata": {},
   "outputs": [
    {
     "name": "stdout",
     "output_type": "stream",
     "text": [
      "hello\n",
      "how are you\n",
      "\n",
      "\n",
      "1.\tHorror: I like watching horror movies.\n",
      "2.\tSouth: I never traveled to southern cities.\n",
      "3.\tDairy: I don't like dairy products.\n",
      "\n",
      "\n",
      "\n"
     ]
    }
   ],
   "source": [
    "copy_file ('C:/Users/pc/Desktop/test/test.txt' , 'C:/Users/pc/Desktop/test/t 1.txt')"
   ]
  },
  {
   "cell_type": "markdown",
   "id": "3c620f74",
   "metadata": {},
   "source": [
    "تمرین 3"
   ]
  },
  {
   "cell_type": "code",
   "execution_count": null,
   "id": "84f260da",
   "metadata": {},
   "outputs": [],
   "source": [
    "def  remove_empty_lines (path_1):\n",
    "    with open(path_1, 'r', encoding='utf-8') as f1:\n",
    "        with open('t3.txt', 'w', encoding='utf-8') as f2:\n",
    "            for line in f1:\n",
    "                if line.strip():\n",
    "                    f2.write(line)\n",
    "    with open('t3.txt', 'r', encoding='utf-8') as f2:\n",
    "        print(f2.read())\n"
   ]
  },
  {
   "cell_type": "code",
   "execution_count": 45,
   "id": "183baaab",
   "metadata": {},
   "outputs": [
    {
     "name": "stdout",
     "output_type": "stream",
     "text": [
      "1.\tHorror: I like watching horror movies.\n",
      "2.\tSouth: I never traveled to southern cities.\n",
      "3.\tDairy: I don't like dairy products.\n",
      "hello\n"
     ]
    }
   ],
   "source": [
    "remove_empty_lines ('C:/Users/pc/Desktop/test/t2.txt')"
   ]
  },
  {
   "cell_type": "markdown",
   "id": "23b694f1",
   "metadata": {},
   "source": [
    "تمرین 4"
   ]
  },
  {
   "cell_type": "code",
   "execution_count": 49,
   "id": "34111b4b",
   "metadata": {},
   "outputs": [],
   "source": [
    "def search2_word(file_path , word):\n",
    "    with open(file_path, 'r', encoding='utf-8') as f:\n",
    "        content = f.read()\n",
    "        words = content.split()\n",
    "        return words.count(word)"
   ]
  },
  {
   "cell_type": "code",
   "execution_count": 50,
   "id": "2d959d4e",
   "metadata": {},
   "outputs": [
    {
     "data": {
      "text/plain": [
       "1"
      ]
     },
     "execution_count": 50,
     "metadata": {},
     "output_type": "execute_result"
    }
   ],
   "source": [
    "search2_word('C:/Users/pc/Desktop/test/test.txt' , 'watching')"
   ]
  },
  {
   "cell_type": "markdown",
   "id": "83389b5e",
   "metadata": {},
   "source": [
    "تمرین 5"
   ]
  },
  {
   "cell_type": "code",
   "execution_count": 60,
   "id": "d53021a9",
   "metadata": {},
   "outputs": [],
   "source": [
    "def compare_files (path_1 , path_2):\n",
    "    with open(path_1, 'r', encoding='utf-8') as f1, open(path_2, 'r', encoding='utf-8') as f2:\n",
    "        a = f1.read()\n",
    "        b = f2.read()\n",
    "        if a == b:\n",
    "            return 'true'\n",
    "        else:\n",
    "            return 'false' "
   ]
  },
  {
   "cell_type": "code",
   "execution_count": 61,
   "id": "74450321",
   "metadata": {},
   "outputs": [
    {
     "data": {
      "text/plain": [
       "'false'"
      ]
     },
     "execution_count": 61,
     "metadata": {},
     "output_type": "execute_result"
    }
   ],
   "source": [
    "compare_files ('C:/Users/pc/Desktop/test/test.txt' , 'C:/Users/pc/Desktop/test/t 1.txt')"
   ]
  },
  {
   "cell_type": "markdown",
   "id": "c3b6e862",
   "metadata": {},
   "source": [
    "تمرین 6"
   ]
  },
  {
   "cell_type": "code",
   "execution_count": 58,
   "id": "08a6275f",
   "metadata": {},
   "outputs": [],
   "source": [
    "def find_lines_with_word (path , word):\n",
    "    c = []\n",
    "    #file_path = r'C:\\Users\\pc\\Desktop\\test\\t4.txt'\n",
    "    with open(path, 'r') as f:\n",
    "        for line in f:\n",
    "            if word in line.split():\n",
    "                c.append(line.strip())\n",
    "    return c"
   ]
  },
  {
   "cell_type": "code",
   "execution_count": 59,
   "id": "e29e0dad",
   "metadata": {},
   "outputs": [
    {
     "data": {
      "text/plain": [
       "['1.\\tHorror: I like watching horror movies.',\n",
       " '1.\\tHorror: I like watching horror movies.',\n",
       " '1.\\tHorror: I like watching horror movies.']"
      ]
     },
     "execution_count": 59,
     "metadata": {},
     "output_type": "execute_result"
    }
   ],
   "source": [
    "find_lines_with_word('C:/Users/pc/Desktop/test/t4.txt' , 'watching')"
   ]
  }
 ],
 "metadata": {
  "kernelspec": {
   "display_name": "Python 3",
   "language": "python",
   "name": "python3"
  },
  "language_info": {
   "codemirror_mode": {
    "name": "ipython",
    "version": 3
   },
   "file_extension": ".py",
   "mimetype": "text/x-python",
   "name": "python",
   "nbconvert_exporter": "python",
   "pygments_lexer": "ipython3",
   "version": "3.10.10"
  }
 },
 "nbformat": 4,
 "nbformat_minor": 5
}
