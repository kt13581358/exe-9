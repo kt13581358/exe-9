{
  "nbformat": 4,
  "nbformat_minor": 0,
  "metadata": {
    "colab": {
      "provenance": [],
      "authorship_tag": "ABX9TyMtQ2f0LbUx3YaqdBdDdlRy",
      "include_colab_link": true
    },
    "kernelspec": {
      "name": "python3",
      "display_name": "Python 3"
    },
    "language_info": {
      "name": "python"
    }
  },
  "cells": [
    {
      "cell_type": "markdown",
      "metadata": {
        "id": "view-in-github",
        "colab_type": "text"
      },
      "source": [
        "<a href=\"https://colab.research.google.com/github/kt13581358/exe-9/blob/main/exe%2014.ipynb\" target=\"_parent\"><img src=\"https://colab.research.google.com/assets/colab-badge.svg\" alt=\"Open In Colab\"/></a>"
      ]
    },
    {
      "cell_type": "code",
      "source": [
        "class Character:\n",
        "    def __init__(self, name, health, attack_power, defense):\n",
        "        self.name = name\n",
        "        self.health = health\n",
        "        self.attack_power = attack_power\n",
        "        self.defense = defense\n",
        "        self.weapon = None\n",
        "        self.role = None\n",
        "\n",
        "    def take_role(self, role):\n",
        "        self.role = role\n",
        "\n",
        "    def get_weapon(self, weapon):\n",
        "        self.weapon = weapon\n",
        "        return f'{self.name} now uses {self.weapon}'\n",
        "\n",
        "    def use_ability(self):\n",
        "        if self.role:\n",
        "            return self.role.use_ability()\n",
        "        return \"No role assigned\"\n",
        "\n",
        "class Role:\n",
        "    def __init__(self, ability=None):\n",
        "        self.ability = ability\n",
        "\n",
        "class Soldier(Role):\n",
        "    def use_ability(self):\n",
        "        return \"Can use weapon\"\n",
        "\n",
        "class Sniper(Role):\n",
        "    def use_ability(self):\n",
        "        return \"High accuracy but low speed\"\n",
        "\n",
        "class Medic(Role):\n",
        "    def use_ability(self):\n",
        "        return \"Can heal other characters\"\n",
        "\n",
        "class Weapon:\n",
        "    def __init__(self, damage, range, kind):\n",
        "        self.damage = damage\n",
        "        self.range = range\n",
        "        self.kind = kind\n",
        "\n",
        "\n",
        "class Mission:\n",
        "    def __init__(self, title, difficulty_level, enemies_list, missin_objective):\n",
        "        self.title = title\n",
        "        self.difficulty_level = difficulty_level\n",
        "        self.enemies_list  = enemies_list\n",
        "        self.missin_objective  = missin_objective"
      ],
      "metadata": {
        "id": "r55rEe_nkYpg"
      },
      "execution_count": null,
      "outputs": []
    },
    {
      "cell_type": "code",
      "source": [
        "c1 = Character(\"Ali\", 100, 25, 10)\n",
        "c1.take_role(Soldier())\n",
        "print(c1.use_ability())\n",
        "\n",
        "c2 = Character(\"Sara\", 90, 15, 8)\n",
        "c2.take_role(Medic())\n",
        "print(c2.use_ability())\n",
        "\n",
        "print(c2.get_weapon(\"Medical Kit\"))"
      ],
      "metadata": {
        "id": "RGSafCu_kSxP"
      },
      "execution_count": null,
      "outputs": []
    }
  ]
}